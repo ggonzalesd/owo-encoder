{
 "cells": [
  {
   "cell_type": "code",
   "execution_count": 657,
   "metadata": {},
   "outputs": [],
   "source": [
    "import torch\n",
    "from torch import nn\n",
    "from torch import optim\n",
    "\n",
    "from torch.utils.data import DataLoader, Dataset\n",
    "from torchvision import transforms\n",
    "import numpy as np\n",
    "from PIL import Image\n",
    "\n",
    "from tqdm import tqdm\n",
    "\n",
    "import matplotlib.pyplot as plt\n",
    "\n",
    "import glob, json\n",
    "import os"
   ]
  },
  {
   "cell_type": "code",
   "execution_count": 658,
   "metadata": {},
   "outputs": [],
   "source": [
    "with open('dataset_image_names.json', 'w') as f:\n",
    "  f.write(json.dumps(glob.glob('images/*')))"
   ]
  },
  {
   "cell_type": "code",
   "execution_count": 4,
   "metadata": {},
   "outputs": [
    {
     "name": "stdout",
     "output_type": "stream",
     "text": [
      "Device: cpu\n"
     ]
    }
   ],
   "source": [
    "device = torch.device('cuda') if torch.cuda.is_available() else torch.device('cpu')\n",
    "print(f\"Device: {device}\")"
   ]
  },
  {
   "cell_type": "code",
   "execution_count": 126,
   "metadata": {},
   "outputs": [],
   "source": [
    "class AnimeDataset(Dataset):\n",
    "  def __init__(self, path, transform):\n",
    "    super(AnimeDataset, self).__init__()\n",
    "    self.path = path\n",
    "    self.transform = transform\n",
    "    self.images = glob.glob(os.path.join(self.path, '*'))\n",
    "\n",
    "  def __len__(self):\n",
    "    return len(self.images)\n",
    "\n",
    "  def __getitem__(self, index):\n",
    "    X = self.transform(Image.open(self.images[index]))\n",
    "    return X\n",
    "\n",
    "  def __repr__(self):\n",
    "    return f\"<AnimeDataset len:{len(self.images)}>\"\n",
    "\n",
    "transform = transforms.Compose([\n",
    "  transforms.Resize((64, 64)),\n",
    "  transforms.RandomHorizontalFlip(),\n",
    "  transforms.ToTensor(),\n",
    "  transforms.Normalize(0.0, 1.0)\n",
    "])\n",
    "\n",
    "dataset = AnimeDataset('./images', transform)"
   ]
  },
  {
   "cell_type": "code",
   "execution_count": 212,
   "metadata": {},
   "outputs": [],
   "source": [
    "train_dl = DataLoader(dataset, 32, shuffle=True)\n",
    "\n",
    "X_batch = next(iter(train_dl))"
   ]
  },
  {
   "cell_type": "code",
   "execution_count": 153,
   "metadata": {},
   "outputs": [],
   "source": [
    "class ConvBlock(nn.Module):\n",
    "  def __init__(self, ch_in, ch_out):\n",
    "    super(ConvBlock, self).__init__()\n",
    "    self.block = nn.Sequential(\n",
    "      nn.Conv2d(ch_in, ch_out, 3, 2, 1, bias=False),\n",
    "      nn.BatchNorm2d(ch_out),\n",
    "      nn.LeakyReLU(0.02)\n",
    "    )\n",
    "  def forward(self, X):\n",
    "    return self.block(X)"
   ]
  },
  {
   "cell_type": "code",
   "execution_count": 209,
   "metadata": {},
   "outputs": [],
   "source": [
    "class ConvTBlock(nn.Module):\n",
    "  def __init__(self, ch_in, ch_out, dropout = True, sigmoid=False):\n",
    "    super(ConvTBlock, self).__init__()\n",
    "    self.block = nn.Sequential(\n",
    "      nn.ConvTranspose2d(ch_in, ch_out, 3, 2, 1, output_padding=1),\n",
    "      nn.Dropout2d(0.25) if dropout else nn.Identity(),\n",
    "      nn.Sigmoid() if sigmoid else nn.ReLU()\n",
    "    )\n",
    "  def forward(self, X):\n",
    "    return self.block(X)"
   ]
  },
  {
   "cell_type": "code",
   "execution_count": 715,
   "metadata": {},
   "outputs": [],
   "source": [
    "class OwoEncoder(nn.Module):\n",
    "  def __init__(self):\n",
    "    super(OwoEncoder, self).__init__()\n",
    "    self.encoder = nn.Sequential(\n",
    "      ConvBlock(3, 32),\n",
    "      ConvBlock(32, 64),\n",
    "      ConvBlock(64, 128),\n",
    "      ConvBlock(128, 256),\n",
    "      ConvBlock(256, 512),\n",
    "      nn.Conv2d(512, 1028, 2),\n",
    "      nn.LeakyReLU(0.02)\n",
    "    )\n",
    "    self.linear_std = nn.Linear(1028, 32)\n",
    "    self.linear_mean = nn.Linear(1028, 32)\n",
    "    self.decoder = nn.Sequential(\n",
    "      nn.ConvTranspose2d(32, 512, 2),\n",
    "      nn.ReLU(),\n",
    "      ConvTBlock(512, 256),\n",
    "      ConvTBlock(256, 128),\n",
    "      ConvTBlock(128, 64),\n",
    "      ConvTBlock(64, 32),\n",
    "      ConvTBlock(32, 3, False, True),\n",
    "    )\n",
    "    \n",
    "  def forward(self, X):\n",
    "    features = torch.flatten(self.encoder(X), start_dim=1, end_dim=-1)\n",
    "    mean = self.linear_mean(features)\n",
    "    std = self.linear_std(features)\n",
    "    norm = torch.randn_like(std)*std + mean\n",
    "    z = norm.unsqueeze(-1).unsqueeze(-1)\n",
    "    fake = self.decoder(z)\n",
    "    return fake, mean, std\n",
    "\n",
    "model = OwoEncoder()\n",
    "fake, mean, std = model(X_batch)\n",
    "fake.shape, mean.shape, std.shape\n",
    "\n",
    "optimizer = optim.AdamW(model.parameters(), lr=1e-4, weight_decay=1e-8)\n",
    "bce_loss_fn = nn.BCELoss()\n",
    "kl_loss_fn = lambda mean, std: (-0.5*(1 + torch.log(std**2) - mean**2 - std**2).sum(1)).mean()"
   ]
  },
  {
   "cell_type": "code",
   "execution_count": 749,
   "metadata": {},
   "outputs": [
    {
     "name": "stderr",
     "output_type": "stream",
     "text": [
      "100%|██████████| 98/98 [00:35<00:00,  2.74it/s]\n"
     ]
    },
    {
     "name": "stdout",
     "output_type": "stream",
     "text": [
      "0.6670786405709721\n"
     ]
    },
    {
     "name": "stderr",
     "output_type": "stream",
     "text": [
      "100%|██████████| 98/98 [00:34<00:00,  2.82it/s]\n"
     ]
    },
    {
     "name": "stdout",
     "output_type": "stream",
     "text": [
      "0.6646400245096927\n"
     ]
    },
    {
     "name": "stderr",
     "output_type": "stream",
     "text": [
      "100%|██████████| 98/98 [00:34<00:00,  2.80it/s]\n"
     ]
    },
    {
     "name": "stdout",
     "output_type": "stream",
     "text": [
      "0.6619373525575505\n"
     ]
    },
    {
     "name": "stderr",
     "output_type": "stream",
     "text": [
      "100%|██████████| 98/98 [00:35<00:00,  2.78it/s]\n"
     ]
    },
    {
     "name": "stdout",
     "output_type": "stream",
     "text": [
      "0.6595527492093566\n"
     ]
    },
    {
     "name": "stderr",
     "output_type": "stream",
     "text": [
      "100%|██████████| 98/98 [00:35<00:00,  2.80it/s]\n"
     ]
    },
    {
     "name": "stdout",
     "output_type": "stream",
     "text": [
      "0.6582643207125617\n"
     ]
    },
    {
     "name": "stderr",
     "output_type": "stream",
     "text": [
      "100%|██████████| 98/98 [00:36<00:00,  2.68it/s]\n"
     ]
    },
    {
     "name": "stdout",
     "output_type": "stream",
     "text": [
      "0.65617111177255\n"
     ]
    },
    {
     "name": "stderr",
     "output_type": "stream",
     "text": [
      " 10%|█         | 10/98 [00:04<00:40,  2.15it/s]\n"
     ]
    },
    {
     "ename": "KeyboardInterrupt",
     "evalue": "",
     "output_type": "error",
     "traceback": [
      "\u001b[0;31m---------------------------------------------------------------------------\u001b[0m",
      "\u001b[0;31mKeyboardInterrupt\u001b[0m                         Traceback (most recent call last)",
      "Cell \u001b[0;32mIn[749], line 14\u001b[0m\n\u001b[1;32m     11\u001b[0m loss \u001b[39m=\u001b[39m bce_loss \u001b[39m+\u001b[39m kl_loss\n\u001b[1;32m     13\u001b[0m optimizer\u001b[39m.\u001b[39mzero_grad()\n\u001b[0;32m---> 14\u001b[0m loss\u001b[39m.\u001b[39;49mbackward()\n\u001b[1;32m     15\u001b[0m optimizer\u001b[39m.\u001b[39mstep()\n\u001b[1;32m     17\u001b[0m train_loss \u001b[39m+\u001b[39m\u001b[39m=\u001b[39m loss\u001b[39m.\u001b[39mitem() \u001b[39m*\u001b[39m X_batch\u001b[39m.\u001b[39mshape[\u001b[39m0\u001b[39m]\n",
      "File \u001b[0;32m~/.local/lib/python3.11/site-packages/torch/_tensor.py:487\u001b[0m, in \u001b[0;36mTensor.backward\u001b[0;34m(self, gradient, retain_graph, create_graph, inputs)\u001b[0m\n\u001b[1;32m    477\u001b[0m \u001b[39mif\u001b[39;00m has_torch_function_unary(\u001b[39mself\u001b[39m):\n\u001b[1;32m    478\u001b[0m     \u001b[39mreturn\u001b[39;00m handle_torch_function(\n\u001b[1;32m    479\u001b[0m         Tensor\u001b[39m.\u001b[39mbackward,\n\u001b[1;32m    480\u001b[0m         (\u001b[39mself\u001b[39m,),\n\u001b[0;32m   (...)\u001b[0m\n\u001b[1;32m    485\u001b[0m         inputs\u001b[39m=\u001b[39minputs,\n\u001b[1;32m    486\u001b[0m     )\n\u001b[0;32m--> 487\u001b[0m torch\u001b[39m.\u001b[39;49mautograd\u001b[39m.\u001b[39;49mbackward(\n\u001b[1;32m    488\u001b[0m     \u001b[39mself\u001b[39;49m, gradient, retain_graph, create_graph, inputs\u001b[39m=\u001b[39;49minputs\n\u001b[1;32m    489\u001b[0m )\n",
      "File \u001b[0;32m~/.local/lib/python3.11/site-packages/torch/autograd/__init__.py:200\u001b[0m, in \u001b[0;36mbackward\u001b[0;34m(tensors, grad_tensors, retain_graph, create_graph, grad_variables, inputs)\u001b[0m\n\u001b[1;32m    195\u001b[0m     retain_graph \u001b[39m=\u001b[39m create_graph\n\u001b[1;32m    197\u001b[0m \u001b[39m# The reason we repeat same the comment below is that\u001b[39;00m\n\u001b[1;32m    198\u001b[0m \u001b[39m# some Python versions print out the first line of a multi-line function\u001b[39;00m\n\u001b[1;32m    199\u001b[0m \u001b[39m# calls in the traceback and some print out the last line\u001b[39;00m\n\u001b[0;32m--> 200\u001b[0m Variable\u001b[39m.\u001b[39;49m_execution_engine\u001b[39m.\u001b[39;49mrun_backward(  \u001b[39m# Calls into the C++ engine to run the backward pass\u001b[39;49;00m\n\u001b[1;32m    201\u001b[0m     tensors, grad_tensors_, retain_graph, create_graph, inputs,\n\u001b[1;32m    202\u001b[0m     allow_unreachable\u001b[39m=\u001b[39;49m\u001b[39mTrue\u001b[39;49;00m, accumulate_grad\u001b[39m=\u001b[39;49m\u001b[39mTrue\u001b[39;49;00m)\n",
      "\u001b[0;31mKeyboardInterrupt\u001b[0m: "
     ]
    }
   ],
   "source": [
    "for i in range(10):\n",
    "  train_loss = .0\n",
    "  for X_batch in tqdm(train_dl):\n",
    "    \n",
    "    model.train()\n",
    "    fake, mean, std = model(X_batch)\n",
    "\n",
    "    bce_loss = bce_loss_fn(fake, X_batch)\n",
    "    kl_loss = kl_loss_fn(mean, std)\n",
    "\n",
    "    loss = bce_loss + kl_loss\n",
    "\n",
    "    optimizer.zero_grad()\n",
    "    loss.backward()\n",
    "    optimizer.step()\n",
    "    \n",
    "    train_loss += loss.item() * X_batch.shape[0]\n",
    "  \n",
    "  train_loss /= len(train_dl.dataset)\n",
    "\n",
    "  print(train_loss)"
   ]
  },
  {
   "cell_type": "code",
   "execution_count": 719,
   "metadata": {},
   "outputs": [
    {
     "data": {
      "text/plain": [
       "1126.0916748046875"
      ]
     },
     "execution_count": 719,
     "metadata": {},
     "output_type": "execute_result"
    }
   ],
   "source": [
    "train_loss"
   ]
  },
  {
   "cell_type": "code",
   "execution_count": 735,
   "metadata": {},
   "outputs": [
    {
     "data": {
      "text/plain": [
       "torch.Size([32, 3, 64, 64])"
      ]
     },
     "execution_count": 735,
     "metadata": {},
     "output_type": "execute_result"
    }
   ],
   "source": [
    "X_batch.shape"
   ]
  },
  {
   "cell_type": "code",
   "execution_count": 750,
   "metadata": {},
   "outputs": [
    {
     "data": {
      "text/plain": [
       "<matplotlib.image.AxesImage at 0x7f32ead725d0>"
      ]
     },
     "execution_count": 750,
     "metadata": {},
     "output_type": "execute_result"
    },
    {
     "data": {
      "image/png": "[encoded data removed]",
      "text/plain": [
       "<Figure size 640x480 with 1 Axes>"
      ]
     },
     "metadata": {},
     "output_type": "display_data"
    }
   ],
   "source": [
    "z = model.decoder(torch.randn(1, 32, 1, 1))\n",
    "z = z.detach().moveaxis(1, -1)[0].numpy()\n",
    "plt.imshow(z)"
   ]
  },
  {
   "cell_type": "code",
   "execution_count": 751,
   "metadata": {},
   "outputs": [
    {
     "data": {
      "text/plain": [
       "<matplotlib.image.AxesImage at 0x7f32eab5b550>"
      ]
     },
     "execution_count": 751,
     "metadata": {},
     "output_type": "execute_result"
    },
    {
     "data": {
      "image/png": "[encoded data removed]",
      "text/plain": [
       "<Figure size 640x480 with 2 Axes>"
      ]
     },
     "metadata": {},
     "output_type": "display_data"
    }
   ],
   "source": [
    "X_batch = next(iter(train_dl))\n",
    "\n",
    "model.eval()\n",
    "fake, _, _ = model(X_batch[:1,:,:,:])\n",
    "\n",
    "plt.subplot(1, 2, 1)\n",
    "plt.imshow(X_batch[0].moveaxis(0, 2).numpy())\n",
    "plt.subplot(1, 2, 2)\n",
    "plt.imshow(fake.detach()[0].moveaxis(0, 2).numpy())"
   ]
  }
 ],
 "metadata": {
  "kernelspec": {
   "display_name": "Python 3",
   "language": "python",
   "name": "python3"
  },
  "language_info": {
   "codemirror_mode": {
    "name": "ipython",
    "version": 3
   },
   "file_extension": ".py",
   "mimetype": "text/x-python",
   "name": "python",
   "nbconvert_exporter": "python",
   "pygments_lexer": "ipython3",
   "version": "3.11.3"
  },
  "orig_nbformat": 4
 },
 "nbformat": 4,
 "nbformat_minor": 2
}
